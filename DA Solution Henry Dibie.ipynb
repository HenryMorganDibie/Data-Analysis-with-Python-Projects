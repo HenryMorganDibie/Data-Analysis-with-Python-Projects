{
 "cells": [
  {
   "cell_type": "code",
   "execution_count": 1,
   "id": "606c1e4b",
   "metadata": {},
   "outputs": [],
   "source": [
    "%matplotlib inline\n",
    "import matplotlib.pyplot as plt\n",
    "import pandas as pd\n",
    "import numpy as np\n",
    "import seaborn as sns\n",
    "import warnings\n",
    "warnings.filterwarnings(\"ignore\")"
   ]
  },
  {
   "cell_type": "code",
   "execution_count": 2,
   "id": "8a9f909b",
   "metadata": {},
   "outputs": [],
   "source": [
    "# Specify the file path and sheet names\n",
    "file_path = 'DA Test Questions.xlsx'\n",
    "sheet_names = ['Guidelines', 'Day', 'User']\n",
    "\n",
    "# Load each sheet into separate DataFrames\n",
    "dfs = pd.read_excel(file_path, sheet_name=sheet_names)\n",
    "\n",
    "# Access the DataFrames\n",
    "df_guidelines = dfs['Guidelines']\n",
    "df_day = dfs['Day']\n",
    "df_users = dfs['User']"
   ]
  },
  {
   "cell_type": "markdown",
   "id": "3c364586",
   "metadata": {},
   "source": [
    "# Question 1"
   ]
  },
  {
   "cell_type": "code",
   "execution_count": 3,
   "id": "b502b882",
   "metadata": {},
   "outputs": [
    {
     "name": "stdout",
     "output_type": "stream",
     "text": [
      "Index(['Id', 'Date', 'Weekday', 'Emails', 'Users', 'Lagos emails',\n",
      "       'Abuja emails', 'Subscriptions', 'Unsubscriptions', 'Coupons', 'Buyers',\n",
      "       'Revenue', 'Other charges', 'Total revenue', 'Revenue per subscriber',\n",
      "       'Revenue per user', 'Conversion'],\n",
      "      dtype='object')\n"
     ]
    }
   ],
   "source": [
    "print(df_day.columns)"
   ]
  },
  {
   "cell_type": "markdown",
   "id": "05b9fa2e",
   "metadata": {},
   "source": [
    " Summarize the number of buyers per day and create a chart with a trend line:"
   ]
  },
  {
   "cell_type": "code",
   "execution_count": 4,
   "id": "cdf1dd35",
   "metadata": {},
   "outputs": [
    {
     "data": {
      "image/png": "[encoded data removed]",
      "text/plain": [
       "<Figure size 432x288 with 1 Axes>"
      ]
     },
     "metadata": {
      "needs_background": "light"
     },
     "output_type": "display_data"
    }
   ],
   "source": [
    "import matplotlib.pyplot as plt\n",
    "\n",
    "# Summarize the number of buyers per day\n",
    "buyers_per_day = df_day.groupby('Weekday')['Buyers'].sum()\n",
    "\n",
    "# Create a chart with a trend line\n",
    "fig, ax = plt.subplots()\n",
    "buyers_per_day.plot(ax=ax, kind='bar', color='blue')\n",
    "ax.set_ylabel('Number of Buyers')\n",
    "\n",
    "# Add a trend line\n",
    "total_buyers = buyers_per_day.sum()\n",
    "trend_line = [total_buyers / len(buyers_per_day)] * len(buyers_per_day)\n",
    "ax.plot(buyers_per_day.index, trend_line, linestyle='--', color='red')\n",
    "\n",
    "# Show the chart\n",
    "plt.show()"
   ]
  },
  {
   "cell_type": "markdown",
   "id": "e1f671d6",
   "metadata": {},
   "source": [
    " Calculate the average, total, maximum, and minimum number of buyers over the period:"
   ]
  },
  {
   "cell_type": "code",
   "execution_count": 5,
   "id": "2dd40112",
   "metadata": {},
   "outputs": [
    {
     "name": "stdout",
     "output_type": "stream",
     "text": [
      "Average buyers per day:  236.39344262295083\n",
      "Total buyers over the period:  14420\n",
      "Maximum buyers over the period:  781\n",
      "Minimum buyers over the period:  46\n"
     ]
    }
   ],
   "source": [
    "average_buyers = df_day['Buyers'].mean()\n",
    "total_buyers = df_day['Buyers'].sum()\n",
    "max_buyers = df_day['Buyers'].max()\n",
    "min_buyers = df_day['Buyers'].min()\n",
    "\n",
    "print(\"Average buyers per day: \", average_buyers)\n",
    "print(\"Total buyers over the period: \", total_buyers)\n",
    "print(\"Maximum buyers over the period: \", max_buyers)\n",
    "print(\"Minimum buyers over the period: \", min_buyers)"
   ]
  },
  {
   "cell_type": "markdown",
   "id": "1ff19ebf",
   "metadata": {},
   "source": [
    " Determine the weekday that generated the most money:"
   ]
  },
  {
   "cell_type": "code",
   "execution_count": 6,
   "id": "9fecd3c8",
   "metadata": {},
   "outputs": [
    {
     "name": "stdout",
     "output_type": "stream",
     "text": [
      "Weekday that generated the most money:  Wednesday\n"
     ]
    }
   ],
   "source": [
    "weekday_most_money = df_day.groupby('Weekday')['Revenue'].sum().idxmax()\n",
    "print(\"Weekday that generated the most money: \", weekday_most_money)"
   ]
  },
  {
   "cell_type": "markdown",
   "id": "e29e1c8e",
   "metadata": {},
   "source": [
    "# Question 2 "
   ]
  },
  {
   "cell_type": "code",
   "execution_count": 7,
   "id": "9242e24a",
   "metadata": {},
   "outputs": [],
   "source": [
    "df_transactions = pd.read_excel('DA Test Questions.xlsx', sheet_name='Transactions')"
   ]
  },
  {
   "cell_type": "code",
   "execution_count": 8,
   "id": "5557c5dc",
   "metadata": {},
   "outputs": [
    {
     "name": "stdout",
     "output_type": "stream",
     "text": [
      "Index(['Day', 'Transaction no', 'Deal no', 'Deal desc', 'Deal merchant',\n",
      "       'Deal category', 'Sales person', 'Deal discount', 'Qty offered', 'User',\n",
      "       'Sate', 'User name', 'Coupons purchased', 'Unit price', 'Gross revenue',\n",
      "       'Merchant take', 'Merchant take percent', 'Email'],\n",
      "      dtype='object')\n"
     ]
    }
   ],
   "source": [
    "print(df_transactions.columns)"
   ]
  },
  {
   "cell_type": "markdown",
   "id": "df36c3f1",
   "metadata": {},
   "source": [
    "Find the top 10 merchants based on coupons sold:"
   ]
  },
  {
   "cell_type": "code",
   "execution_count": 9,
   "id": "bc9ddfc6",
   "metadata": {},
   "outputs": [
    {
     "name": "stdout",
     "output_type": "stream",
     "text": [
      "Top 10 merchants based on coupons sold:\n",
      "                          Coupons purchased\n",
      "Deal merchant                              \n",
      "DealDey                                9236\n",
      "Benchmark Technologies                  542\n",
      "Better Covenant Ventures                496\n",
      "Lotus Body & Baths                      332\n",
      "HMO Collections                         330\n",
      "Sarah's Choice Ventures                 316\n",
      "Vera's Place                            313\n",
      "NS 1463 Clothing Co.                    309\n",
      "Huntella Gadgets                        306\n",
      "Fouani Nigeria Limited                  301\n"
     ]
    }
   ],
   "source": [
    "top_merchants = df_transactions.pivot_table(index='Deal merchant', values='Coupons purchased', aggfunc='sum').nlargest(10, 'Coupons purchased')\n",
    "print(\"Top 10 merchants based on coupons sold:\")\n",
    "print(top_merchants)"
   ]
  },
  {
   "cell_type": "markdown",
   "id": "79e2d681",
   "metadata": {},
   "source": [
    "Determine the number of coupons sold per category during the period"
   ]
  },
  {
   "cell_type": "code",
   "execution_count": 10,
   "id": "15572c61",
   "metadata": {},
   "outputs": [
    {
     "name": "stdout",
     "output_type": "stream",
     "text": [
      "Number of coupons sold per category during the period:\n",
      "                       Coupons purchased\n",
      "Deal category                           \n",
      "City                                8642\n",
      "Fashion & Style                     7551\n",
      "Gadgets & Electronics               3677\n",
      "Home & Decor                        6548\n",
      "Travel                               128\n"
     ]
    }
   ],
   "source": [
    "coupons_per_category = df_transactions.pivot_table(index='Deal category', values='Coupons purchased', aggfunc='sum')\n",
    "print(\"Number of coupons sold per category during the period:\")\n",
    "print(coupons_per_category)"
   ]
  },
  {
   "cell_type": "markdown",
   "id": "72351ff6",
   "metadata": {},
   "source": [
    "Calculate the percentage of coupons sold per category during the period"
   ]
  },
  {
   "cell_type": "code",
   "execution_count": 11,
   "id": "a3225cfb",
   "metadata": {},
   "outputs": [
    {
     "name": "stdout",
     "output_type": "stream",
     "text": [
      "Percentage of coupons sold per category during the period:\n",
      "                       Coupons purchased\n",
      "Deal category                           \n",
      "City                           32.554811\n",
      "Fashion & Style                28.444963\n",
      "Gadgets & Electronics          13.851428\n",
      "Home & Decor                   24.666616\n",
      "Travel                          0.482182\n"
     ]
    }
   ],
   "source": [
    "total_coupons_sold = df_transactions['Coupons purchased'].sum()\n",
    "coupons_percentage_per_category = (coupons_per_category / total_coupons_sold) * 100\n",
    "print(\"Percentage of coupons sold per category during the period:\")\n",
    "print(coupons_percentage_per_category)"
   ]
  },
  {
   "cell_type": "markdown",
   "id": "d1b8206f",
   "metadata": {},
   "source": [
    "Find the average price (price point) for different categories sold during the period:"
   ]
  },
  {
   "cell_type": "code",
   "execution_count": 12,
   "id": "cd46d5b5",
   "metadata": {},
   "outputs": [
    {
     "name": "stdout",
     "output_type": "stream",
     "text": [
      "Average price for different categories sold during the period:\n",
      "                         Unit price\n",
      "Deal category                      \n",
      "City                    2550.513451\n",
      "Fashion & Style         3786.703240\n",
      "Gadgets & Electronics   8332.497853\n",
      "Home & Decor            2769.083348\n",
      "Travel                 52345.454545\n"
     ]
    }
   ],
   "source": [
    "average_price_per_category = df_transactions.pivot_table(index='Deal category', values='Unit price', aggfunc='mean')\n",
    "print(\"Average price for different categories sold during the period:\")\n",
    "print(average_price_per_category)"
   ]
  },
  {
   "cell_type": "markdown",
   "id": "13d75405",
   "metadata": {},
   "source": [
    "Present the top 5 states from which our customers came:"
   ]
  },
  {
   "cell_type": "code",
   "execution_count": 13,
   "id": "bca3b177",
   "metadata": {},
   "outputs": [
    {
     "name": "stdout",
     "output_type": "stream",
     "text": [
      "Top 5 states where our customers came from:\n",
      "         User\n",
      "Sate         \n",
      "Lagos   19608\n",
      "Abuja    2258\n",
      "Rivers    266\n",
      "Delta      88\n",
      "Edo        71\n"
     ]
    }
   ],
   "source": [
    "top_states = df_transactions.pivot_table(index='Sate', values='User', aggfunc='count')\n",
    "top_states = top_states.nlargest(5, 'User')\n",
    "print(\"Top 5 states where our customers came from:\")\n",
    "print(top_states)"
   ]
  },
  {
   "cell_type": "code",
   "execution_count": 14,
   "id": "a85a7da0",
   "metadata": {},
   "outputs": [
    {
     "name": "stdout",
     "output_type": "stream",
     "text": [
      "Transaction columns:\n",
      "Index(['Day', 'Transaction no', 'Deal no', 'Deal desc', 'Deal merchant',\n",
      "       'Deal category', 'Sales person', 'Deal discount', 'Qty offered', 'User',\n",
      "       'Sate', 'User name', 'Coupons purchased', 'Unit price', 'Gross revenue',\n",
      "       'Merchant take', 'Merchant take percent', 'Email'],\n",
      "      dtype='object')\n"
     ]
    }
   ],
   "source": [
    "transaction_columns = df_transactions.columns\n",
    "print(\"Transaction columns:\")\n",
    "print(transaction_columns)"
   ]
  },
  {
   "cell_type": "code",
   "execution_count": 15,
   "id": "cb528bb9",
   "metadata": {},
   "outputs": [
    {
     "name": "stdout",
     "output_type": "stream",
     "text": [
      "User columns:\n",
      "Index(['User', 'Sign Up Date', 'Referrer', '1=no referral', 'Email', 'State',\n",
      "       'First Purchase Date', 'Year', 'Month', 'First Purchase Deal Title',\n",
      "       'First Purchase Root Category', 'First Purchase Sub Category',\n",
      "       'First Purchase Leaf Category', 'Unit Price', 'Quantity',\n",
      "       'First Purchase', 'Total No Of Purchase', 'Total Spent',\n",
      "       'Total Cod Plus Shipping Charges', 'No Of Referrers', 'Age Bracket',\n",
      "       'Gender', 'Mobile No', 'Days From Signup To First Purchase',\n",
      "       'Days Since Last Purchase'],\n",
      "      dtype='object')\n"
     ]
    }
   ],
   "source": [
    "User_columns = df_users.columns\n",
    "print(\"User columns:\")\n",
    "print(User_columns)"
   ]
  },
  {
   "cell_type": "code",
   "execution_count": 16,
   "id": "cfb0af06",
   "metadata": {},
   "outputs": [
    {
     "name": "stdout",
     "output_type": "stream",
     "text": [
      "Transaction columns:\n",
      "['Day', 'Transaction no', 'Deal no', 'Deal desc', 'Deal merchant', 'Deal category', 'Sales person', 'Deal discount', 'Qty offered', 'User', 'Sate', 'User name', 'Coupons purchased', 'Unit price', 'Gross revenue', 'Merchant take', 'Merchant take percent', 'Email']\n",
      "User columns:\n",
      "['User', 'Sign Up Date', 'Referrer', '1=no referral', 'Email', 'State', 'First Purchase Date', 'Year', 'Month', 'First Purchase Deal Title', 'First Purchase Root Category', 'First Purchase Sub Category', 'First Purchase Leaf Category', 'Unit Price', 'Quantity', 'First Purchase', 'Total No Of Purchase', 'Total Spent', 'Total Cod Plus Shipping Charges', 'No Of Referrers', 'Age Bracket', 'Gender', 'Mobile No', 'Days From Signup To First Purchase', 'Days Since Last Purchase']\n"
     ]
    }
   ],
   "source": [
    "print(\"Transaction columns:\")\n",
    "print(df_transactions.columns.tolist())\n",
    "\n",
    "print(\"User columns:\")\n",
    "print(df_users.columns.tolist())"
   ]
  },
  {
   "cell_type": "code",
   "execution_count": 17,
   "id": "db0292ce",
   "metadata": {},
   "outputs": [],
   "source": [
    "merged_data = pd.merge(df_transactions, df_users, left_on='User', right_on='User', how='left')"
   ]
  },
  {
   "cell_type": "code",
   "execution_count": 18,
   "id": "3d670780",
   "metadata": {},
   "outputs": [
    {
     "name": "stdout",
     "output_type": "stream",
     "text": [
      "Index(['Day', 'Transaction no', 'Deal no', 'Deal desc', 'Deal merchant',\n",
      "       'Deal category', 'Sales person', 'Deal discount', 'Qty offered', 'User',\n",
      "       'Sate', 'User name', 'Coupons purchased', 'Unit price', 'Gross revenue',\n",
      "       'Merchant take', 'Merchant take percent', 'Email_x', 'Sign Up Date',\n",
      "       'Referrer', '1=no referral', 'Email_y', 'State', 'First Purchase Date',\n",
      "       'Year', 'Month', 'First Purchase Deal Title',\n",
      "       'First Purchase Root Category', 'First Purchase Sub Category',\n",
      "       'First Purchase Leaf Category', 'Unit Price', 'Quantity',\n",
      "       'First Purchase', 'Total No Of Purchase', 'Total Spent',\n",
      "       'Total Cod Plus Shipping Charges', 'No Of Referrers', 'Age Bracket',\n",
      "       'Gender', 'Mobile No', 'Days From Signup To First Purchase',\n",
      "       'Days Since Last Purchase'],\n",
      "      dtype='object')\n"
     ]
    }
   ],
   "source": [
    "merged_columns = merged_data.columns\n",
    "print(merged_columns)"
   ]
  },
  {
   "cell_type": "code",
   "execution_count": 19,
   "id": "11c50d94",
   "metadata": {},
   "outputs": [],
   "source": [
    "# Rename 'Email_x' to 'Email'\n",
    "merged_data.rename(columns={'Email_x': 'Email'}, inplace=True)\n",
    "\n",
    "# Drop the 'Email_y' column\n",
    "merged_data.drop('Email_y', axis=1, inplace=True)"
   ]
  },
  {
   "cell_type": "code",
   "execution_count": 20,
   "id": "9f2f1874",
   "metadata": {},
   "outputs": [
    {
     "data": {
      "text/html": [
       "<div>\n",
       "<style scoped>\n",
       "    .dataframe tbody tr th:only-of-type {\n",
       "        vertical-align: middle;\n",
       "    }\n",
       "\n",
       "    .dataframe tbody tr th {\n",
       "        vertical-align: top;\n",
       "    }\n",
       "\n",
       "    .dataframe thead th {\n",
       "        text-align: right;\n",
       "    }\n",
       "</style>\n",
       "<table border=\"1\" class=\"dataframe\">\n",
       "  <thead>\n",
       "    <tr style=\"text-align: right;\">\n",
       "      <th></th>\n",
       "      <th>Day</th>\n",
       "      <th>Transaction no</th>\n",
       "      <th>Deal no</th>\n",
       "      <th>Deal desc</th>\n",
       "      <th>Deal merchant</th>\n",
       "      <th>Deal category</th>\n",
       "      <th>Sales person</th>\n",
       "      <th>Deal discount</th>\n",
       "      <th>Qty offered</th>\n",
       "      <th>User</th>\n",
       "      <th>...</th>\n",
       "      <th>First Purchase</th>\n",
       "      <th>Total No Of Purchase</th>\n",
       "      <th>Total Spent</th>\n",
       "      <th>Total Cod Plus Shipping Charges</th>\n",
       "      <th>No Of Referrers</th>\n",
       "      <th>Age Bracket</th>\n",
       "      <th>Gender</th>\n",
       "      <th>Mobile No</th>\n",
       "      <th>Days From Signup To First Purchase</th>\n",
       "      <th>Days Since Last Purchase</th>\n",
       "    </tr>\n",
       "  </thead>\n",
       "  <tbody>\n",
       "    <tr>\n",
       "      <th>0</th>\n",
       "      <td>2013-06-01</td>\n",
       "      <td>13700485665286</td>\n",
       "      <td>13934</td>\n",
       "      <td>Full Body G5 Massage, Steam Bath &amp; Pedicure</td>\n",
       "      <td>House of Tay</td>\n",
       "      <td>City</td>\n",
       "      <td>NaN</td>\n",
       "      <td>4500.0</td>\n",
       "      <td>NaN</td>\n",
       "      <td>26171</td>\n",
       "      <td>...</td>\n",
       "      <td>1440.0</td>\n",
       "      <td>85</td>\n",
       "      <td>309338.0</td>\n",
       "      <td>0</td>\n",
       "      <td>2.0</td>\n",
       "      <td>26-30</td>\n",
       "      <td>Female</td>\n",
       "      <td>8.120797e+09</td>\n",
       "      <td>0</td>\n",
       "      <td>57</td>\n",
       "    </tr>\n",
       "    <tr>\n",
       "      <th>1</th>\n",
       "      <td>2013-06-01</td>\n",
       "      <td>13700516237562</td>\n",
       "      <td>13901</td>\n",
       "      <td>All You Can Eat Weekend Buffet Brunch</td>\n",
       "      <td>Cafe Jade</td>\n",
       "      <td>City</td>\n",
       "      <td>NaN</td>\n",
       "      <td>1900.0</td>\n",
       "      <td>NaN</td>\n",
       "      <td>28086</td>\n",
       "      <td>...</td>\n",
       "      <td>6500.0</td>\n",
       "      <td>10</td>\n",
       "      <td>62250.0</td>\n",
       "      <td>500</td>\n",
       "      <td>NaN</td>\n",
       "      <td>38-45</td>\n",
       "      <td>Male</td>\n",
       "      <td>8.030493e+09</td>\n",
       "      <td>228</td>\n",
       "      <td>51</td>\n",
       "    </tr>\n",
       "    <tr>\n",
       "      <th>2</th>\n",
       "      <td>2013-06-01</td>\n",
       "      <td>13700575808346</td>\n",
       "      <td>14022</td>\n",
       "      <td>Deluxe USB LED Flexi Keyboard Light</td>\n",
       "      <td>DealDey</td>\n",
       "      <td>Gadgets &amp; Electronics</td>\n",
       "      <td>NaN</td>\n",
       "      <td>700.0</td>\n",
       "      <td>48.0</td>\n",
       "      <td>74974</td>\n",
       "      <td>...</td>\n",
       "      <td>1000.0</td>\n",
       "      <td>21</td>\n",
       "      <td>85650.0</td>\n",
       "      <td>0</td>\n",
       "      <td>NaN</td>\n",
       "      <td>18-25</td>\n",
       "      <td>Male</td>\n",
       "      <td>7.088554e+09</td>\n",
       "      <td>61</td>\n",
       "      <td>40</td>\n",
       "    </tr>\n",
       "    <tr>\n",
       "      <th>3</th>\n",
       "      <td>2013-06-01</td>\n",
       "      <td>13700609692958</td>\n",
       "      <td>13739</td>\n",
       "      <td>Solar Powered 80 LED Security Floodlight with ...</td>\n",
       "      <td>Depth2heights Global Inv</td>\n",
       "      <td>Gadgets &amp; Electronics</td>\n",
       "      <td>NaN</td>\n",
       "      <td>5000.0</td>\n",
       "      <td>30.0</td>\n",
       "      <td>107804</td>\n",
       "      <td>...</td>\n",
       "      <td>12000.0</td>\n",
       "      <td>350</td>\n",
       "      <td>1473880.0</td>\n",
       "      <td>143200</td>\n",
       "      <td>NaN</td>\n",
       "      <td>31-37</td>\n",
       "      <td>Male</td>\n",
       "      <td>8.097522e+09</td>\n",
       "      <td>0</td>\n",
       "      <td>5</td>\n",
       "    </tr>\n",
       "    <tr>\n",
       "      <th>4</th>\n",
       "      <td>2013-06-01</td>\n",
       "      <td>13700609693152</td>\n",
       "      <td>13843</td>\n",
       "      <td>Magic Rotating Lint Brush</td>\n",
       "      <td>DealDey</td>\n",
       "      <td>Home &amp; Decor</td>\n",
       "      <td>NaN</td>\n",
       "      <td>1200.0</td>\n",
       "      <td>48.0</td>\n",
       "      <td>107804</td>\n",
       "      <td>...</td>\n",
       "      <td>12000.0</td>\n",
       "      <td>350</td>\n",
       "      <td>1473880.0</td>\n",
       "      <td>143200</td>\n",
       "      <td>NaN</td>\n",
       "      <td>31-37</td>\n",
       "      <td>Male</td>\n",
       "      <td>8.097522e+09</td>\n",
       "      <td>0</td>\n",
       "      <td>5</td>\n",
       "    </tr>\n",
       "  </tbody>\n",
       "</table>\n",
       "<p>5 rows × 41 columns</p>\n",
       "</div>"
      ],
      "text/plain": [
       "         Day  Transaction no  Deal no  \\\n",
       "0 2013-06-01  13700485665286    13934   \n",
       "1 2013-06-01  13700516237562    13901   \n",
       "2 2013-06-01  13700575808346    14022   \n",
       "3 2013-06-01  13700609692958    13739   \n",
       "4 2013-06-01  13700609693152    13843   \n",
       "\n",
       "                                           Deal desc  \\\n",
       "0        Full Body G5 Massage, Steam Bath & Pedicure   \n",
       "1              All You Can Eat Weekend Buffet Brunch   \n",
       "2                Deluxe USB LED Flexi Keyboard Light   \n",
       "3  Solar Powered 80 LED Security Floodlight with ...   \n",
       "4                          Magic Rotating Lint Brush   \n",
       "\n",
       "              Deal merchant          Deal category  Sales person  \\\n",
       "0              House of Tay                   City           NaN   \n",
       "1                 Cafe Jade                   City           NaN   \n",
       "2                   DealDey  Gadgets & Electronics           NaN   \n",
       "3  Depth2heights Global Inv  Gadgets & Electronics           NaN   \n",
       "4                   DealDey           Home & Decor           NaN   \n",
       "\n",
       "   Deal discount  Qty offered    User  ... First Purchase  \\\n",
       "0         4500.0          NaN   26171  ...         1440.0   \n",
       "1         1900.0          NaN   28086  ...         6500.0   \n",
       "2          700.0         48.0   74974  ...         1000.0   \n",
       "3         5000.0         30.0  107804  ...        12000.0   \n",
       "4         1200.0         48.0  107804  ...        12000.0   \n",
       "\n",
       "  Total No Of Purchase  Total Spent  Total Cod Plus Shipping Charges  \\\n",
       "0                   85     309338.0                                0   \n",
       "1                   10      62250.0                              500   \n",
       "2                   21      85650.0                                0   \n",
       "3                  350    1473880.0                           143200   \n",
       "4                  350    1473880.0                           143200   \n",
       "\n",
       "   No Of Referrers  Age Bracket  Gender     Mobile No  \\\n",
       "0              2.0        26-30  Female  8.120797e+09   \n",
       "1              NaN        38-45    Male  8.030493e+09   \n",
       "2              NaN        18-25    Male  7.088554e+09   \n",
       "3              NaN        31-37    Male  8.097522e+09   \n",
       "4              NaN        31-37    Male  8.097522e+09   \n",
       "\n",
       "  Days From Signup To First Purchase  Days Since Last Purchase  \n",
       "0                                  0                        57  \n",
       "1                                228                        51  \n",
       "2                                 61                        40  \n",
       "3                                  0                         5  \n",
       "4                                  0                         5  \n",
       "\n",
       "[5 rows x 41 columns]"
      ]
     },
     "execution_count": 20,
     "metadata": {},
     "output_type": "execute_result"
    }
   ],
   "source": [
    "merged_data.head()"
   ]
  },
  {
   "cell_type": "code",
   "execution_count": null,
   "id": "cb675a3b",
   "metadata": {},
   "outputs": [],
   "source": []
  }
 ],
 "metadata": {
  "kernelspec": {
   "display_name": "Python 3 (ipykernel)",
   "language": "python",
   "name": "python3"
  },
  "language_info": {
   "codemirror_mode": {
    "name": "ipython",
    "version": 3
   },
   "file_extension": ".py",
   "mimetype": "text/x-python",
   "name": "python",
   "nbconvert_exporter": "python",
   "pygments_lexer": "ipython3",
   "version": "3.9.12"
  }
 },
 "nbformat": 4,
 "nbformat_minor": 5
}
