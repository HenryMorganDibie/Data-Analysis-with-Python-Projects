{
 "cells": [
  {
   "cell_type": "code",
   "execution_count": 1,
   "id": "f5a54a9f",
   "metadata": {},
   "outputs": [],
   "source": [
    "import pandas as pd\n",
    "import numpy as np\n",
    "import matplotlib.pyplot as plt\n",
    "import seaborn as sns"
   ]
  },
  {
   "cell_type": "code",
   "execution_count": 32,
   "id": "1ca91c2a",
   "metadata": {},
   "outputs": [
    {
     "data": {
      "text/html": [
       "<div>\n",
       "<style scoped>\n",
       "    .dataframe tbody tr th:only-of-type {\n",
       "        vertical-align: middle;\n",
       "    }\n",
       "\n",
       "    .dataframe tbody tr th {\n",
       "        vertical-align: top;\n",
       "    }\n",
       "\n",
       "    .dataframe thead th {\n",
       "        text-align: right;\n",
       "    }\n",
       "</style>\n",
       "<table border=\"1\" class=\"dataframe\">\n",
       "  <thead>\n",
       "    <tr style=\"text-align: right;\">\n",
       "      <th></th>\n",
       "      <th>location</th>\n",
       "      <th>date</th>\n",
       "      <th>new_cases</th>\n",
       "      <th>new_deaths</th>\n",
       "      <th>population</th>\n",
       "      <th>aged_65_older_percent</th>\n",
       "      <th>gdp_per_capita</th>\n",
       "      <th>hospital_beds_per_thousand</th>\n",
       "    </tr>\n",
       "  </thead>\n",
       "  <tbody>\n",
       "    <tr>\n",
       "      <th>0</th>\n",
       "      <td>Afghanistan</td>\n",
       "      <td>2019-12-31</td>\n",
       "      <td>0</td>\n",
       "      <td>0</td>\n",
       "      <td>38928341.0</td>\n",
       "      <td>2.581</td>\n",
       "      <td>1803.987</td>\n",
       "      <td>0.5</td>\n",
       "    </tr>\n",
       "    <tr>\n",
       "      <th>1</th>\n",
       "      <td>Afghanistan</td>\n",
       "      <td>2020-01-01</td>\n",
       "      <td>0</td>\n",
       "      <td>0</td>\n",
       "      <td>38928341.0</td>\n",
       "      <td>2.581</td>\n",
       "      <td>1803.987</td>\n",
       "      <td>0.5</td>\n",
       "    </tr>\n",
       "    <tr>\n",
       "      <th>2</th>\n",
       "      <td>Afghanistan</td>\n",
       "      <td>2020-01-02</td>\n",
       "      <td>0</td>\n",
       "      <td>0</td>\n",
       "      <td>38928341.0</td>\n",
       "      <td>2.581</td>\n",
       "      <td>1803.987</td>\n",
       "      <td>0.5</td>\n",
       "    </tr>\n",
       "    <tr>\n",
       "      <th>3</th>\n",
       "      <td>Afghanistan</td>\n",
       "      <td>2020-01-03</td>\n",
       "      <td>0</td>\n",
       "      <td>0</td>\n",
       "      <td>38928341.0</td>\n",
       "      <td>2.581</td>\n",
       "      <td>1803.987</td>\n",
       "      <td>0.5</td>\n",
       "    </tr>\n",
       "    <tr>\n",
       "      <th>4</th>\n",
       "      <td>Afghanistan</td>\n",
       "      <td>2020-01-04</td>\n",
       "      <td>0</td>\n",
       "      <td>0</td>\n",
       "      <td>38928341.0</td>\n",
       "      <td>2.581</td>\n",
       "      <td>1803.987</td>\n",
       "      <td>0.5</td>\n",
       "    </tr>\n",
       "    <tr>\n",
       "      <th>...</th>\n",
       "      <td>...</td>\n",
       "      <td>...</td>\n",
       "      <td>...</td>\n",
       "      <td>...</td>\n",
       "      <td>...</td>\n",
       "      <td>...</td>\n",
       "      <td>...</td>\n",
       "      <td>...</td>\n",
       "    </tr>\n",
       "    <tr>\n",
       "      <th>23077</th>\n",
       "      <td>International</td>\n",
       "      <td>2020-02-28</td>\n",
       "      <td>0</td>\n",
       "      <td>0</td>\n",
       "      <td>NaN</td>\n",
       "      <td>NaN</td>\n",
       "      <td>NaN</td>\n",
       "      <td>NaN</td>\n",
       "    </tr>\n",
       "    <tr>\n",
       "      <th>23078</th>\n",
       "      <td>International</td>\n",
       "      <td>2020-02-29</td>\n",
       "      <td>0</td>\n",
       "      <td>2</td>\n",
       "      <td>NaN</td>\n",
       "      <td>NaN</td>\n",
       "      <td>NaN</td>\n",
       "      <td>NaN</td>\n",
       "    </tr>\n",
       "    <tr>\n",
       "      <th>23079</th>\n",
       "      <td>International</td>\n",
       "      <td>2020-03-01</td>\n",
       "      <td>0</td>\n",
       "      <td>0</td>\n",
       "      <td>NaN</td>\n",
       "      <td>NaN</td>\n",
       "      <td>NaN</td>\n",
       "      <td>NaN</td>\n",
       "    </tr>\n",
       "    <tr>\n",
       "      <th>23080</th>\n",
       "      <td>International</td>\n",
       "      <td>2020-03-02</td>\n",
       "      <td>0</td>\n",
       "      <td>0</td>\n",
       "      <td>NaN</td>\n",
       "      <td>NaN</td>\n",
       "      <td>NaN</td>\n",
       "      <td>NaN</td>\n",
       "    </tr>\n",
       "    <tr>\n",
       "      <th>23081</th>\n",
       "      <td>International</td>\n",
       "      <td>2020-03-10</td>\n",
       "      <td>-9</td>\n",
       "      <td>1</td>\n",
       "      <td>NaN</td>\n",
       "      <td>NaN</td>\n",
       "      <td>NaN</td>\n",
       "      <td>NaN</td>\n",
       "    </tr>\n",
       "  </tbody>\n",
       "</table>\n",
       "<p>23082 rows × 8 columns</p>\n",
       "</div>"
      ],
      "text/plain": [
       "            location        date  new_cases  new_deaths  population  \\\n",
       "0        Afghanistan  2019-12-31          0           0  38928341.0   \n",
       "1        Afghanistan  2020-01-01          0           0  38928341.0   \n",
       "2        Afghanistan  2020-01-02          0           0  38928341.0   \n",
       "3        Afghanistan  2020-01-03          0           0  38928341.0   \n",
       "4        Afghanistan  2020-01-04          0           0  38928341.0   \n",
       "...              ...         ...        ...         ...         ...   \n",
       "23077  International  2020-02-28          0           0         NaN   \n",
       "23078  International  2020-02-29          0           2         NaN   \n",
       "23079  International  2020-03-01          0           0         NaN   \n",
       "23080  International  2020-03-02          0           0         NaN   \n",
       "23081  International  2020-03-10         -9           1         NaN   \n",
       "\n",
       "       aged_65_older_percent  gdp_per_capita  hospital_beds_per_thousand  \n",
       "0                      2.581        1803.987                         0.5  \n",
       "1                      2.581        1803.987                         0.5  \n",
       "2                      2.581        1803.987                         0.5  \n",
       "3                      2.581        1803.987                         0.5  \n",
       "4                      2.581        1803.987                         0.5  \n",
       "...                      ...             ...                         ...  \n",
       "23077                    NaN             NaN                         NaN  \n",
       "23078                    NaN             NaN                         NaN  \n",
       "23079                    NaN             NaN                         NaN  \n",
       "23080                    NaN             NaN                         NaN  \n",
       "23081                    NaN             NaN                         NaN  \n",
       "\n",
       "[23082 rows x 8 columns]"
      ]
     },
     "execution_count": 32,
     "metadata": {},
     "output_type": "execute_result"
    }
   ],
   "source": [
    "covid = pd.read_csv('covid_data.csv')\n",
    "covid"
   ]
  },
  {
   "cell_type": "code",
   "execution_count": 3,
   "id": "4afaac80",
   "metadata": {},
   "outputs": [
    {
     "data": {
      "text/html": [
       "<div>\n",
       "<style scoped>\n",
       "    .dataframe tbody tr th:only-of-type {\n",
       "        vertical-align: middle;\n",
       "    }\n",
       "\n",
       "    .dataframe tbody tr th {\n",
       "        vertical-align: top;\n",
       "    }\n",
       "\n",
       "    .dataframe thead th {\n",
       "        text-align: right;\n",
       "    }\n",
       "</style>\n",
       "<table border=\"1\" class=\"dataframe\">\n",
       "  <thead>\n",
       "    <tr style=\"text-align: right;\">\n",
       "      <th></th>\n",
       "      <th>id;alco</th>\n",
       "    </tr>\n",
       "  </thead>\n",
       "  <tbody>\n",
       "    <tr>\n",
       "      <th>0</th>\n",
       "      <td>44;0</td>\n",
       "    </tr>\n",
       "    <tr>\n",
       "      <th>1</th>\n",
       "      <td>45;0</td>\n",
       "    </tr>\n",
       "    <tr>\n",
       "      <th>2</th>\n",
       "      <td>46;0</td>\n",
       "    </tr>\n",
       "    <tr>\n",
       "      <th>3</th>\n",
       "      <td>47;0</td>\n",
       "    </tr>\n",
       "    <tr>\n",
       "      <th>4</th>\n",
       "      <td>49;0</td>\n",
       "    </tr>\n",
       "  </tbody>\n",
       "</table>\n",
       "</div>"
      ],
      "text/plain": [
       "  id;alco\n",
       "0    44;0\n",
       "1    45;0\n",
       "2    46;0\n",
       "3    47;0\n",
       "4    49;0"
      ]
     },
     "execution_count": 3,
     "metadata": {},
     "output_type": "execute_result"
    }
   ],
   "source": [
    "cardio1 = pd.read_csv('cardio_alco.csv')\n",
    "cardio1.head()"
   ]
  },
  {
   "cell_type": "code",
   "execution_count": 10,
   "id": "153f21e5",
   "metadata": {},
   "outputs": [
    {
     "data": {
      "text/html": [
       "<div>\n",
       "<style scoped>\n",
       "    .dataframe tbody tr th:only-of-type {\n",
       "        vertical-align: middle;\n",
       "    }\n",
       "\n",
       "    .dataframe tbody tr th {\n",
       "        vertical-align: top;\n",
       "    }\n",
       "\n",
       "    .dataframe thead th {\n",
       "        text-align: right;\n",
       "    }\n",
       "</style>\n",
       "<table border=\"1\" class=\"dataframe\">\n",
       "  <thead>\n",
       "    <tr style=\"text-align: right;\">\n",
       "      <th></th>\n",
       "      <th>id</th>\n",
       "      <th>age</th>\n",
       "      <th>gender</th>\n",
       "      <th>height</th>\n",
       "      <th>weight</th>\n",
       "      <th>ap_hi</th>\n",
       "      <th>ap_lo</th>\n",
       "      <th>cholesterol</th>\n",
       "      <th>smoke</th>\n",
       "    </tr>\n",
       "  </thead>\n",
       "  <tbody>\n",
       "    <tr>\n",
       "      <th>0</th>\n",
       "      <td>0</td>\n",
       "      <td>18393</td>\n",
       "      <td>2</td>\n",
       "      <td>168</td>\n",
       "      <td>62.0</td>\n",
       "      <td>110</td>\n",
       "      <td>80</td>\n",
       "      <td>1</td>\n",
       "      <td>0</td>\n",
       "    </tr>\n",
       "    <tr>\n",
       "      <th>1</th>\n",
       "      <td>1</td>\n",
       "      <td>20228</td>\n",
       "      <td>1</td>\n",
       "      <td>156</td>\n",
       "      <td>85.0</td>\n",
       "      <td>140</td>\n",
       "      <td>90</td>\n",
       "      <td>3</td>\n",
       "      <td>0</td>\n",
       "    </tr>\n",
       "    <tr>\n",
       "      <th>2</th>\n",
       "      <td>2</td>\n",
       "      <td>18857</td>\n",
       "      <td>1</td>\n",
       "      <td>165</td>\n",
       "      <td>64.0</td>\n",
       "      <td>130</td>\n",
       "      <td>70</td>\n",
       "      <td>3</td>\n",
       "      <td>0</td>\n",
       "    </tr>\n",
       "    <tr>\n",
       "      <th>3</th>\n",
       "      <td>3</td>\n",
       "      <td>17623</td>\n",
       "      <td>2</td>\n",
       "      <td>169</td>\n",
       "      <td>82.0</td>\n",
       "      <td>150</td>\n",
       "      <td>100</td>\n",
       "      <td>1</td>\n",
       "      <td>0</td>\n",
       "    </tr>\n",
       "    <tr>\n",
       "      <th>4</th>\n",
       "      <td>4</td>\n",
       "      <td>17474</td>\n",
       "      <td>1</td>\n",
       "      <td>156</td>\n",
       "      <td>56.0</td>\n",
       "      <td>100</td>\n",
       "      <td>60</td>\n",
       "      <td>1</td>\n",
       "      <td>0</td>\n",
       "    </tr>\n",
       "    <tr>\n",
       "      <th>...</th>\n",
       "      <td>...</td>\n",
       "      <td>...</td>\n",
       "      <td>...</td>\n",
       "      <td>...</td>\n",
       "      <td>...</td>\n",
       "      <td>...</td>\n",
       "      <td>...</td>\n",
       "      <td>...</td>\n",
       "      <td>...</td>\n",
       "    </tr>\n",
       "    <tr>\n",
       "      <th>69995</th>\n",
       "      <td>99993</td>\n",
       "      <td>19240</td>\n",
       "      <td>2</td>\n",
       "      <td>168</td>\n",
       "      <td>76.0</td>\n",
       "      <td>120</td>\n",
       "      <td>80</td>\n",
       "      <td>1</td>\n",
       "      <td>1</td>\n",
       "    </tr>\n",
       "    <tr>\n",
       "      <th>69996</th>\n",
       "      <td>99995</td>\n",
       "      <td>22601</td>\n",
       "      <td>1</td>\n",
       "      <td>158</td>\n",
       "      <td>126.0</td>\n",
       "      <td>140</td>\n",
       "      <td>90</td>\n",
       "      <td>2</td>\n",
       "      <td>0</td>\n",
       "    </tr>\n",
       "    <tr>\n",
       "      <th>69997</th>\n",
       "      <td>99996</td>\n",
       "      <td>19066</td>\n",
       "      <td>2</td>\n",
       "      <td>183</td>\n",
       "      <td>105.0</td>\n",
       "      <td>180</td>\n",
       "      <td>90</td>\n",
       "      <td>3</td>\n",
       "      <td>0</td>\n",
       "    </tr>\n",
       "    <tr>\n",
       "      <th>69998</th>\n",
       "      <td>99998</td>\n",
       "      <td>22431</td>\n",
       "      <td>1</td>\n",
       "      <td>163</td>\n",
       "      <td>72.0</td>\n",
       "      <td>135</td>\n",
       "      <td>80</td>\n",
       "      <td>1</td>\n",
       "      <td>0</td>\n",
       "    </tr>\n",
       "    <tr>\n",
       "      <th>69999</th>\n",
       "      <td>99999</td>\n",
       "      <td>20540</td>\n",
       "      <td>1</td>\n",
       "      <td>170</td>\n",
       "      <td>72.0</td>\n",
       "      <td>120</td>\n",
       "      <td>80</td>\n",
       "      <td>2</td>\n",
       "      <td>0</td>\n",
       "    </tr>\n",
       "  </tbody>\n",
       "</table>\n",
       "<p>70000 rows × 9 columns</p>\n",
       "</div>"
      ],
      "text/plain": [
       "          id    age  gender  height  weight  ap_hi  ap_lo  cholesterol  smoke\n",
       "0          0  18393       2     168    62.0    110     80            1      0\n",
       "1          1  20228       1     156    85.0    140     90            3      0\n",
       "2          2  18857       1     165    64.0    130     70            3      0\n",
       "3          3  17623       2     169    82.0    150    100            1      0\n",
       "4          4  17474       1     156    56.0    100     60            1      0\n",
       "...      ...    ...     ...     ...     ...    ...    ...          ...    ...\n",
       "69995  99993  19240       2     168    76.0    120     80            1      1\n",
       "69996  99995  22601       1     158   126.0    140     90            2      0\n",
       "69997  99996  19066       2     183   105.0    180     90            3      0\n",
       "69998  99998  22431       1     163    72.0    135     80            1      0\n",
       "69999  99999  20540       1     170    72.0    120     80            2      0\n",
       "\n",
       "[70000 rows x 9 columns]"
      ]
     },
     "execution_count": 10,
     "metadata": {},
     "output_type": "execute_result"
    }
   ],
   "source": [
    "cardio2 = pd.read_csv('cardio_base.csv')\n",
    "cardio2"
   ]
  },
  {
   "cell_type": "code",
   "execution_count": 6,
   "id": "bff57dc4",
   "metadata": {},
   "outputs": [
    {
     "name": "stdout",
     "output_type": "stream",
     "text": [
      "The age group with the highest average weight is: 63\n",
      "The age group with the lowest weight is: 30\n",
      "The difference in average weight between the two age groups is: 16.873720760233923\n"
     ]
    }
   ],
   "source": [
    "import pandas as pd\n",
    "\n",
    "cardio2 = pd.read_csv('cardio_base.csv')\n",
    "cardio2['age_years'] = cardio2['age'] // 365  # Calculate age in years and round down\n",
    "\n",
    "# Group the data by age group and calculate the average weight\n",
    "grouped_data = cardio2.groupby('age_years')['weight'].mean()\n",
    "\n",
    "# Find the age group with the highest average weight\n",
    "max_weight_age_group = grouped_data.idxmax()\n",
    "\n",
    "# Find the age group with the lowest weight\n",
    "min_weight_age_group = grouped_data.idxmin()\n",
    "\n",
    "# Calculate the difference in average weight between the two age groups\n",
    "weight_difference = grouped_data[max_weight_age_group] - grouped_data[min_weight_age_group]\n",
    "\n",
    "print(\"The age group with the highest average weight is:\", max_weight_age_group)\n",
    "print(\"The age group with the lowest weight is:\", min_weight_age_group)\n",
    "print(\"The difference in average weight between the two age groups is:\", weight_difference)"
   ]
  },
  {
   "cell_type": "code",
   "execution_count": 7,
   "id": "1d140c4b",
   "metadata": {},
   "outputs": [
    {
     "name": "stdout",
     "output_type": "stream",
     "text": [
      "People over 50 have the highest cholesterol levels: True\n"
     ]
    }
   ],
   "source": [
    "import pandas as pd\n",
    "\n",
    "cardio2 = pd.read_csv('cardio_base.csv')\n",
    "\n",
    "# Create age groups\n",
    "cardio2['age_groups'] = pd.cut(cardio2['age'], bins=[0, 50, float('inf')], labels=['Under 50', 'Over 50'])\n",
    "\n",
    "# Calculate the average cholesterol levels for each age group\n",
    "grouped_data = cardio2.groupby('age_groups')['cholesterol'].mean()\n",
    "\n",
    "# Find the age group with the highest average cholesterol levels\n",
    "max_cholesterol_age_group = grouped_data.idxmax()\n",
    "\n",
    "# Check if people over 50 have the highest cholesterol levels compared to the rest\n",
    "is_highest_cholesterol = max_cholesterol_age_group == 'Over 50'\n",
    "\n",
    "print(\"People over 50 have the highest cholesterol levels:\", is_highest_cholesterol)\n"
   ]
  },
  {
   "cell_type": "code",
   "execution_count": 8,
   "id": "e469ce91",
   "metadata": {},
   "outputs": [
    {
     "name": "stdout",
     "output_type": "stream",
     "text": [
      "Men are more likely to be smokers than women: True\n"
     ]
    }
   ],
   "source": [
    "import pandas as pd\n",
    "\n",
    "cardio2 = pd.read_csv('cardio_base.csv')\n",
    "\n",
    "# Calculate the proportions of smokers for each gender\n",
    "grouped_data = cardio2.groupby('gender')['smoke'].mean()\n",
    "\n",
    "# Check if men are more likely to be smokers than women\n",
    "is_more_likely = grouped_data[2] > grouped_data[1]\n",
    "\n",
    "print(\"Men are more likely to be smokers than women:\", is_more_likely)"
   ]
  },
  {
   "cell_type": "code",
   "execution_count": 9,
   "id": "0d27b2b7",
   "metadata": {},
   "outputs": [
    {
     "name": "stdout",
     "output_type": "stream",
     "text": [
      "The height of the tallest 1% of people is: 184.0\n"
     ]
    }
   ],
   "source": [
    "import pandas as pd\n",
    "\n",
    "cardio2 = pd.read_csv('cardio_base.csv')\n",
    "\n",
    "# Calculate the height of the tallest 1% of people\n",
    "tallest_1_percent_height = cardio2['height'].quantile(0.99)\n",
    "\n",
    "print(\"The height of the tallest 1% of people is:\", tallest_1_percent_height)\n"
   ]
  },
  {
   "cell_type": "code",
   "execution_count": 11,
   "id": "39a51fd0",
   "metadata": {},
   "outputs": [
    {
     "name": "stdout",
     "output_type": "stream",
     "text": [
      "The two features with the highest Spearman rank correlation are:\n",
      "cholesterol  cholesterol    1.0\n",
      "ap_lo        ap_lo          1.0\n",
      "dtype: float64\n"
     ]
    }
   ],
   "source": [
    "import pandas as pd\n",
    "\n",
    "cardio2 = pd.read_csv('cardio_base.csv')\n",
    "\n",
    "# Calculate the Spearman rank correlation matrix\n",
    "correlation_matrix = cardio2.corr(method='spearman')\n",
    "\n",
    "# Find the two features with the highest correlation\n",
    "highest_corr_features = correlation_matrix.unstack().sort_values(ascending=False)[2:4]\n",
    "\n",
    "print(\"The two features with the highest Spearman rank correlation are:\")\n",
    "print(highest_corr_features)"
   ]
  },
  {
   "cell_type": "code",
   "execution_count": 12,
   "id": "8e56a0a1",
   "metadata": {},
   "outputs": [
    {
     "name": "stdout",
     "output_type": "stream",
     "text": [
      "The percentage of people more than 2 standard deviations away from the average height is: 3.3357142857142854\n"
     ]
    }
   ],
   "source": [
    "import pandas as pd\n",
    "import numpy as np\n",
    "\n",
    "cardio2 = pd.read_csv('cardio_base.csv')\n",
    "\n",
    "# Calculate the z-scores for height\n",
    "mean_height = cardio2['height'].mean()\n",
    "std_height = cardio2['height'].std()\n",
    "cardio2['height_zscore'] = (cardio2['height'] - mean_height) / std_height\n",
    "\n",
    "# Count the number of people more than 2 standard deviations away from the mean height\n",
    "num_outliers = cardio2.loc[abs(cardio2['height_zscore']) > 2].shape[0]\n",
    "\n",
    "# Calculate the percentage of people more than 2 standard deviations away from the mean height\n",
    "percentage_outliers = (num_outliers / cardio2.shape[0]) * 100\n",
    "\n",
    "print(\"The percentage of people more than 2 standard deviations away from the average height is:\", percentage_outliers)\n"
   ]
  },
  {
   "cell_type": "code",
   "execution_count": 14,
   "id": "c7887591",
   "metadata": {},
   "outputs": [
    {
     "name": "stdout",
     "output_type": "stream",
     "text": [
      "The percentage of the population over 50 years old who consume alcohol is: 5.353301999522027\n"
     ]
    }
   ],
   "source": [
    "import pandas as pd\n",
    "\n",
    "cardio1 = pd.read_csv('cardio_alco.csv', sep=';')\n",
    "cardio2 = pd.read_csv('cardio_base.csv')\n",
    "\n",
    "# Merge cardio1 and cardio2 on id\n",
    "merged_data = pd.merge(cardio1, cardio2, left_on='id', right_index=True, how='inner')\n",
    "\n",
    "# Filter the population over 50 years old\n",
    "over_50_population = merged_data[merged_data['age'] > 50]\n",
    "\n",
    "# Calculate the percentage of people over 50 who consume alcohol\n",
    "percentage_consumers = (over_50_population['alco'].sum() / over_50_population.shape[0]) * 100\n",
    "\n",
    "print(\"The percentage of the population over 50 years old who consume alcohol is:\", percentage_consumers)\n"
   ]
  },
  {
   "cell_type": "code",
   "execution_count": 15,
   "id": "774e31a7",
   "metadata": {},
   "outputs": [
    {
     "name": "stdout",
     "output_type": "stream",
     "text": [
      "There is no significant difference in blood pressure between men and women.\n"
     ]
    }
   ],
   "source": [
    "import pandas as pd\n",
    "from scipy.stats import ttest_ind\n",
    "\n",
    "cardio2 = pd.read_csv('cardio_base.csv')\n",
    "\n",
    "# Filter data for men and women\n",
    "men_data = cardio2[cardio2['gender'] == 2]\n",
    "women_data = cardio2[cardio2['gender'] == 1]\n",
    "\n",
    "# Perform independent t-test for blood pressure\n",
    "t_stat, p_value = ttest_ind(men_data['ap_hi'], women_data['ap_hi'])\n",
    "if p_value < 0.05:\n",
    "    print(\"Men have a significantly higher blood pressure than women.\")\n",
    "else:\n",
    "    print(\"There is no significant difference in blood pressure between men and women.\")\n"
   ]
  },
  {
   "cell_type": "code",
   "execution_count": 16,
   "id": "2686b450",
   "metadata": {},
   "outputs": [
    {
     "name": "stdout",
     "output_type": "stream",
     "text": [
      "There is no significant difference in cholesterol levels between smokers and non-smokers.\n"
     ]
    }
   ],
   "source": [
    "import pandas as pd\n",
    "from scipy.stats import ttest_ind\n",
    "\n",
    "cardio1 = pd.read_csv('cardio_alco.csv', sep=';')\n",
    "cardio2 = pd.read_csv('cardio_base.csv')\n",
    "\n",
    "# Merge cardio1 and cardio2 on id\n",
    "merged_data = pd.merge(cardio1, cardio2, left_on='id', right_index=True, how='inner')\n",
    "\n",
    "# Filter data for smokers and non-smokers\n",
    "smokers_data = merged_data[merged_data['smoke'] == 1]\n",
    "non_smokers_data = merged_data[merged_data['smoke'] == 0]\n",
    "\n",
    "# Perform independent t-test for cholesterol\n",
    "t_stat, p_value = ttest_ind(smokers_data['cholesterol'], non_smokers_data['cholesterol'])\n",
    "if p_value < 0.05:\n",
    "    print(\"Smokers have significantly higher cholesterol levels than non-smokers.\")\n",
    "else:\n",
    "    print(\"There is no significant difference in cholesterol levels between smokers and non-smokers.\")\n"
   ]
  },
  {
   "cell_type": "code",
   "execution_count": 18,
   "id": "b39c3145",
   "metadata": {},
   "outputs": [
    {
     "name": "stdout",
     "output_type": "stream",
     "text": [
      "Mean cholesterol level of smokers: 1.38192158036516\n",
      "Mean cholesterol level of non-smokers: 1.3644151757095402\n"
     ]
    },
    {
     "data": {
      "image/png": "[encoded data removed]",
      "text/plain": [
       "<Figure size 640x480 with 1 Axes>"
      ]
     },
     "metadata": {},
     "output_type": "display_data"
    }
   ],
   "source": [
    "import pandas as pd\n",
    "import seaborn as sns\n",
    "\n",
    "cardio1 = pd.read_csv('cardio_alco.csv', sep=';')\n",
    "cardio2 = pd.read_csv('cardio_base.csv')\n",
    "\n",
    "# Merge cardio1 and cardio2 on id\n",
    "merged_data = pd.merge(cardio1, cardio2, left_on='id', right_index=True, how='inner')\n",
    "\n",
    "# Create a box plot to compare cholesterol levels between smokers and non-smokers\n",
    "sns.boxplot(data=merged_data, x='smoke', y='cholesterol')\n",
    "\n",
    "# Calculate the means for cholesterol levels of smokers and non-smokers\n",
    "smokers_mean = merged_data[merged_data['smoke'] == 1]['cholesterol'].mean()\n",
    "non_smokers_mean = merged_data[merged_data['smoke'] == 0]['cholesterol'].mean()\n",
    "\n",
    "# Print the means\n",
    "print(\"Mean cholesterol level of smokers:\", smokers_mean)\n",
    "print(\"Mean cholesterol level of non-smokers:\", non_smokers_mean)\n"
   ]
  },
  {
   "cell_type": "code",
   "execution_count": 19,
   "id": "b97b5f8a",
   "metadata": {},
   "outputs": [
    {
     "name": "stdout",
     "output_type": "stream",
     "text": [
      "Statement 1 (Men have a higher blood pressure than women): True\n",
      "Statement 2 (Smokers have higher cholesterol level than non-smokers): False\n",
      "Statement 3 (Smokers have higher blood pressure than non-smokers): False\n",
      "Statement 4 (Smokers weigh less than non-smokers): True\n"
     ]
    }
   ],
   "source": [
    "import pandas as pd\n",
    "import scipy.stats as stats\n",
    "\n",
    "cardio1 = pd.read_csv('cardio_alco.csv', sep=';')\n",
    "cardio2 = pd.read_csv('cardio_base.csv')\n",
    "\n",
    "# Merge cardio1 and cardio2 on id\n",
    "merged_data = pd.merge(cardio1, cardio2, left_on='id', right_index=True, how='inner')\n",
    "\n",
    "# Statement 1: Men have a higher blood pressure than women\n",
    "men_blood_pressure = merged_data[merged_data['gender'] == 2]['ap_hi']\n",
    "women_blood_pressure = merged_data[merged_data['gender'] == 1]['ap_hi']\n",
    "t_statistic, p_value = stats.ttest_ind(men_blood_pressure, women_blood_pressure)\n",
    "statement1_result = p_value < 0.05\n",
    "\n",
    "# Statement 2: Smokers have higher cholesterol level than non-smokers\n",
    "smokers_cholesterol = merged_data[merged_data['smoke'] == 1]['cholesterol']\n",
    "non_smokers_cholesterol = merged_data[merged_data['smoke'] == 0]['cholesterol']\n",
    "t_statistic, p_value = stats.ttest_ind(smokers_cholesterol, non_smokers_cholesterol)\n",
    "statement2_result = p_value < 0.05\n",
    "\n",
    "# Statement 3: Smokers have higher blood pressure than non-smokers\n",
    "smokers_blood_pressure = merged_data[merged_data['smoke'] == 1]['ap_hi']\n",
    "non_smokers_blood_pressure = merged_data[merged_data['smoke'] == 0]['ap_hi']\n",
    "t_statistic, p_value = stats.ttest_ind(smokers_blood_pressure, non_smokers_blood_pressure)\n",
    "statement3_result = p_value < 0.05\n",
    "\n",
    "# Statement 4: Smokers weigh less than non-smokers\n",
    "smokers_weight = merged_data[merged_data['smoke'] == 1]['weight']\n",
    "non_smokers_weight = merged_data[merged_data['smoke'] == 0]['weight']\n",
    "t_statistic, p_value = stats.ttest_ind(smokers_weight, non_smokers_weight)\n",
    "statement4_result = p_value < 0.05\n",
    "\n",
    "# Print the results\n",
    "print(\"Statement 1 (Men have a higher blood pressure than women):\", statement1_result)\n",
    "print(\"Statement 2 (Smokers have higher cholesterol level than non-smokers):\", statement2_result)\n",
    "print(\"Statement 3 (Smokers have higher blood pressure than non-smokers):\", statement3_result)\n",
    "print(\"Statement 4 (Smokers weigh less than non-smokers):\", statement4_result)\n"
   ]
  },
  {
   "cell_type": "code",
   "execution_count": 22,
   "id": "519c7e9f",
   "metadata": {},
   "outputs": [
    {
     "name": "stdout",
     "output_type": "stream",
     "text": [
      "The difference in total confirmed cases between Italy and Germany exceeded 10,000 on: nan\n"
     ]
    },
    {
     "name": "stderr",
     "output_type": "stream",
     "text": [
      "C:\\Users\\hDibie\\AppData\\Local\\Temp\\ipykernel_20124\\2361420017.py:11: SettingWithCopyWarning: \n",
      "A value is trying to be set on a copy of a slice from a DataFrame.\n",
      "Try using .loc[row_indexer,col_indexer] = value instead\n",
      "\n",
      "See the caveats in the documentation: https://pandas.pydata.org/pandas-docs/stable/user_guide/indexing.html#returning-a-view-versus-a-copy\n",
      "  italy_data['total_cases'] = italy_data['new_cases'].cumsum()\n",
      "C:\\Users\\hDibie\\AppData\\Local\\Temp\\ipykernel_20124\\2361420017.py:12: SettingWithCopyWarning: \n",
      "A value is trying to be set on a copy of a slice from a DataFrame.\n",
      "Try using .loc[row_indexer,col_indexer] = value instead\n",
      "\n",
      "See the caveats in the documentation: https://pandas.pydata.org/pandas-docs/stable/user_guide/indexing.html#returning-a-view-versus-a-copy\n",
      "  germany_data['total_cases'] = germany_data['new_cases'].cumsum()\n",
      "C:\\Users\\hDibie\\AppData\\Local\\Temp\\ipykernel_20124\\2361420017.py:15: UserWarning: Boolean Series key will be reindexed to match DataFrame index.\n",
      "  date_threshold = italy_data[italy_data['total_cases'] - germany_data['total_cases'] > 10000]['date'].min()\n"
     ]
    }
   ],
   "source": [
    "import pandas as pd\n",
    "\n",
    "# Read the COVID-19 data\n",
    "covid_data = pd.read_csv('covid_data.csv')\n",
    "\n",
    "# Filter the data for Italy and Germany\n",
    "italy_data = covid_data[covid_data['location'] == 'Italy']\n",
    "germany_data = covid_data[covid_data['location'] == 'Germany']\n",
    "\n",
    "# Calculate the cumulative sum of new cases for Italy and Germany\n",
    "italy_data['total_cases'] = italy_data['new_cases'].cumsum()\n",
    "germany_data['total_cases'] = germany_data['new_cases'].cumsum()\n",
    "\n",
    "# Find the date when the difference exceeded 10,000\n",
    "date_threshold = italy_data[italy_data['total_cases'] - germany_data['total_cases'] > 10000]['date'].min()\n",
    "\n",
    "print(\"The difference in total confirmed cases between Italy and Germany exceeded 10,000 on:\", date_threshold)\n"
   ]
  },
  {
   "cell_type": "code",
   "execution_count": 26,
   "id": "5c401d94",
   "metadata": {},
   "outputs": [
    {
     "name": "stdout",
     "output_type": "stream",
     "text": [
      "The difference between the exponential curve and the total number of real cases on 2020-03-20 is: -1711.692671692661\n"
     ]
    },
    {
     "name": "stderr",
     "output_type": "stream",
     "text": [
      "C:\\Users\\hDibie\\AppData\\Local\\Temp\\ipykernel_20124\\2108407535.py:12: SettingWithCopyWarning: \n",
      "A value is trying to be set on a copy of a slice from a DataFrame.\n",
      "Try using .loc[row_indexer,col_indexer] = value instead\n",
      "\n",
      "See the caveats in the documentation: https://pandas.pydata.org/pandas-docs/stable/user_guide/indexing.html#returning-a-view-versus-a-copy\n",
      "  italy_data['date'] = pd.to_datetime(italy_data['date'])\n"
     ]
    }
   ],
   "source": [
    "import pandas as pd\n",
    "import numpy as np\n",
    "from scipy.optimize import curve_fit\n",
    "\n",
    "# Load the dataset\n",
    "covid_data = pd.read_csv('covid_data.csv')\n",
    "\n",
    "# Filter the data for Italy\n",
    "italy_data = covid_data[covid_data['location'] == 'Italy']\n",
    "\n",
    "# Convert the date column to datetime format\n",
    "italy_data['date'] = pd.to_datetime(italy_data['date'])\n",
    "\n",
    "# Filter the data for the desired date range\n",
    "start_date = '2020-02-28'\n",
    "end_date = '2020-03-20'\n",
    "italy_data = italy_data[(italy_data['date'] >= start_date) & (italy_data['date'] <= end_date)]\n",
    "\n",
    "# Calculate the cumulative cases\n",
    "italy_data['cumulative_cases'] = italy_data['new_cases'].cumsum()\n",
    "\n",
    "# Define the exponential function\n",
    "def exponential_func(x, A, B):\n",
    "    return A * np.exp(B * x)\n",
    "\n",
    "# Fit the exponential curve to the data\n",
    "x = np.arange(len(italy_data))\n",
    "y = italy_data['cumulative_cases']\n",
    "params, _ = curve_fit(exponential_func, x, y)\n",
    "\n",
    "# Calculate the predicted values using the exponential function\n",
    "predicted_values = exponential_func(x, *params)\n",
    "\n",
    "# Calculate the difference between the predicted values and the actual cumulative cases on 2020-03-20\n",
    "actual_cases_20200320 = italy_data.loc[italy_data['date'] == '2020-03-20', 'cumulative_cases'].values[0]\n",
    "difference = actual_cases_20200320 - predicted_values[-1]\n",
    "\n",
    "print(\"The difference between the exponential curve and the total number of real cases on 2020-03-20 is:\", difference)\n"
   ]
  },
  {
   "cell_type": "code",
   "execution_count": 28,
   "id": "fb52ea6e",
   "metadata": {},
   "outputs": [
    {
     "name": "stdout",
     "output_type": "stream",
     "text": [
      "The country with the 3rd highest death rate is: San Marino\n"
     ]
    }
   ],
   "source": [
    "import pandas as pd\n",
    "\n",
    "# Read the COVID-19 dataset\n",
    "covid_data = pd.read_csv('covid_data.csv')\n",
    "\n",
    "# Calculate the death rate per million inhabitants\n",
    "covid_data['death_rate'] = (covid_data['new_deaths'] / covid_data['population']) * 1e6\n",
    "\n",
    "# Sort the data by death rate in descending order\n",
    "sorted_data = covid_data.sort_values('death_rate', ascending=False)\n",
    "\n",
    "# Get the country with the 3rd highest death rate\n",
    "third_highest_death_rate_country = sorted_data.iloc[2]['location']\n",
    "\n",
    "print(\"The country with the 3rd highest death rate is:\", third_highest_death_rate_country)\n"
   ]
  },
  {
   "cell_type": "code",
   "execution_count": 31,
   "id": "5ca25660",
   "metadata": {},
   "outputs": [
    {
     "name": "stdout",
     "output_type": "stream",
     "text": [
      "The F1 score is: 0.01257103495780954\n"
     ]
    }
   ],
   "source": [
    "import pandas as pd\n",
    "\n",
    "# Read the dataset\n",
    "data = pd.read_csv('covid_data.csv')\n",
    "\n",
    "# Filter the necessary columns\n",
    "filtered_data = data[['location', 'population', 'aged_65_older_percent', 'new_deaths']]\n",
    "\n",
    "# Filter countries with more than 20% population over 65 and death rate over 50 per million\n",
    "filtered_data = filtered_data[(filtered_data['aged_65_older_percent'] > 20) & (filtered_data['new_deaths'] > 50)]\n",
    "\n",
    "# Calculate the F1 score\n",
    "true_positives = len(filtered_data)\n",
    "false_positives = len(data) - true_positives\n",
    "false_negatives = 0  # Assuming there are no missing necessary information\n",
    "precision = true_positives / (true_positives + false_positives)\n",
    "recall = true_positives / (true_positives + false_negatives)\n",
    "f1_score = 2 * (precision * recall) / (precision + recall)\n",
    "\n",
    "print(\"The F1 score is:\", f1_score)\n"
   ]
  },
  {
   "cell_type": "code",
   "execution_count": 34,
   "id": "694902fc",
   "metadata": {},
   "outputs": [
    {
     "name": "stdout",
     "output_type": "stream",
     "text": [
      "The probability that a country has a GDP over $10,000 given at least 5 hospital beds per 1000 inhabitants is: 0.12984143488432545\n"
     ]
    }
   ],
   "source": [
    "import pandas as pd\n",
    "\n",
    "# Read the dataset\n",
    "data = pd.read_csv('covid_data.csv')\n",
    "\n",
    "# Filter the dataset based on conditions\n",
    "filtered_data = data[(data['hospital_beds_per_thousand'] >= 5) & (data['gdp_per_capita'] > 10000)]\n",
    "\n",
    "# Calculate the probability\n",
    "probability = len(filtered_data) / len(data)\n",
    "\n",
    "print(\"The probability that a country has a GDP over $10,000 given at least 5 hospital beds per 1000 inhabitants is:\", probability)\n"
   ]
  },
  {
   "cell_type": "code",
   "execution_count": 36,
   "id": "762ed1ce",
   "metadata": {},
   "outputs": [
    {
     "name": "stdout",
     "output_type": "stream",
     "text": [
      "The probability that a country has a GDP over $10,000 given at least 5 hospital beds per 1000 inhabitants is: 0.9193251533742332\n"
     ]
    }
   ],
   "source": [
    "import pandas as pd\n",
    "\n",
    "# Read the dataset\n",
    "data = pd.read_csv('covid_data.csv')\n",
    "\n",
    "# Filter rows with non-missing GDP and hospital beds values\n",
    "filtered_data = data.dropna(subset=['gdp_per_capita', 'hospital_beds_per_thousand'])\n",
    "\n",
    "# Filter rows where hospital beds per thousand inhabitants is at least 5\n",
    "filtered_data = filtered_data[filtered_data['hospital_beds_per_thousand'] >= 5]\n",
    "\n",
    "# Calculate the probability of GDP over $10,000\n",
    "probability = len(filtered_data[filtered_data['gdp_per_capita'] > 10000]) / len(filtered_data)\n",
    "\n",
    "print(\"The probability that a country has a GDP over $10,000 given at least 5 hospital beds per 1000 inhabitants is:\", probability)\n"
   ]
  },
  {
   "cell_type": "code",
   "execution_count": null,
   "id": "87bb437d",
   "metadata": {},
   "outputs": [],
   "source": []
  }
 ],
 "metadata": {
  "kernelspec": {
   "display_name": "Python 3 (ipykernel)",
   "language": "python",
   "name": "python3"
  },
  "language_info": {
   "codemirror_mode": {
    "name": "ipython",
    "version": 3
   },
   "file_extension": ".py",
   "mimetype": "text/x-python",
   "name": "python",
   "nbconvert_exporter": "python",
   "pygments_lexer": "ipython3",
   "version": "3.10.9"
  }
 },
 "nbformat": 4,
 "nbformat_minor": 5
}
