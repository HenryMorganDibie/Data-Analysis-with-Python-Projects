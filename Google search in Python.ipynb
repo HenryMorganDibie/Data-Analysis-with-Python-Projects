{
 "cells": [
  {
   "cell_type": "code",
   "execution_count": 1,
   "id": "4fcb53f5",
   "metadata": {},
   "outputs": [],
   "source": [
    "!pip install google -q"
   ]
  },
  {
   "cell_type": "code",
   "execution_count": 3,
   "id": "a6fd73b4",
   "metadata": {},
   "outputs": [
    {
     "name": "stdout",
     "output_type": "stream",
     "text": [
      "https://www.mygreatlearning.com/machine-learning/free-courses\n",
      "https://www.udacity.com/course/intro-to-machine-learning--ud120\n",
      "https://medium.com/javarevisited/10-free-machine-learning-courses-for-beginners-181f83b4c816\n",
      "https://www.coursera.org/learn/machine-learning\n",
      "https://www.coursera.org/learn/machine-learning#reviews\n",
      "https://www.coursera.org/learn/machine-learning#enroll\n",
      "https://www.freecodecamp.org/news/free-machine-learning-course-10-hourse/\n",
      "https://www.kdnuggets.com/2022/02/top-5-free-machine-learning-courses.html\n",
      "https://www.udemy.com/topic/machine-learning/free/\n",
      "https://towardsdatascience.com/3-free-machine-learning-courses-you-should-take-right-now-7bf4e6b459fe\n"
     ]
    }
   ],
   "source": [
    "from googlesearch import search\n",
    "query = 'Free Machine Learning courses'\n",
    "for result in search(query, num=10, stop=10, pause=5):\n",
    "    print(result)"
   ]
  },
  {
   "cell_type": "code",
   "execution_count": 4,
   "id": "0787fed8",
   "metadata": {},
   "outputs": [
    {
     "name": "stdout",
     "output_type": "stream",
     "text": [
      "https://www.edx.org/learn/project-management\n",
      "https://www.edx.org/course/project-management-for-development\n",
      "https://www.edx.org/course/international-project-management\n",
      "https://www.edx.org/course/risk-management-for-projects\n",
      "https://www.oxfordhomestudy.com/courses/project-management-courses-online/free-online-courses-with-certificates-in-project-management\n",
      "https://www.oxfordhomestudy.com/courses/project-management-courses-online/project-management-course-free\n",
      "https://www.oxfordhomestudy.com/courses/project-management-courses-online/free-project-management-certification\n",
      "https://www.oxfordhomestudy.com/courses/construction-management-courses-online/free-online-construction-courses\n",
      "https://alison.com/course/diploma-in-project-management-revised-2017\n",
      "https://www.mygreatlearning.com/academy/learn-for-free/courses/project-management\n"
     ]
    }
   ],
   "source": [
    "query = 'Free Project Management courses'\n",
    "for result in search(query, num=10, stop=10, pause=5):\n",
    "    print(result)"
   ]
  },
  {
   "cell_type": "code",
   "execution_count": null,
   "id": "99e51035",
   "metadata": {},
   "outputs": [],
   "source": []
  }
 ],
 "metadata": {
  "kernelspec": {
   "display_name": "Python 3 (ipykernel)",
   "language": "python",
   "name": "python3"
  },
  "language_info": {
   "codemirror_mode": {
    "name": "ipython",
    "version": 3
   },
   "file_extension": ".py",
   "mimetype": "text/x-python",
   "name": "python",
   "nbconvert_exporter": "python",
   "pygments_lexer": "ipython3",
   "version": "3.9.12"
  }
 },
 "nbformat": 4,
 "nbformat_minor": 5
}
